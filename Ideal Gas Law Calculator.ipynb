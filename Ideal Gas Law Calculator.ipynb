{
 "cells": [
  {
   "cell_type": "code",
   "execution_count": 1,
   "id": "5b88de64-41c7-4f50-b95b-d78b31c35f5d",
   "metadata": {},
   "outputs": [
    {
     "data": {
      "text/markdown": [
       "## Ideal Gas Law Calculator (PV = nRT)"
      ],
      "text/plain": [
       "<IPython.core.display.Markdown object>"
      ]
     },
     "metadata": {},
     "output_type": "display_data"
    },
    {
     "data": {
      "text/markdown": [
       "Enter values for known variables (leave blank for the variable to calculate):"
      ],
      "text/plain": [
       "<IPython.core.display.Markdown object>"
      ]
     },
     "metadata": {},
     "output_type": "display_data"
    },
    {
     "name": "stdin",
     "output_type": "stream",
     "text": [
      "Enter pressure (Pa, e.g., 101325 for 1 atm) [blank to calculate]:  566\n",
      "Enter volume (m³, e.g., 0.0224 for 22.4 L) [blank to calculate]:  \n",
      "Enter moles (mol) [blank to calculate]:  555\n",
      "Enter temperature (K, e.g., 298 for 25°C) [blank to calculate]:  5\n"
     ]
    },
    {
     "data": {
      "text/markdown": [
       "### Inputs"
      ],
      "text/plain": [
       "<IPython.core.display.Markdown object>"
      ]
     },
     "metadata": {},
     "output_type": "display_data"
    },
    {
     "data": {
      "text/markdown": [
       "- Pressure (P): 566.0 Pa"
      ],
      "text/plain": [
       "<IPython.core.display.Markdown object>"
      ]
     },
     "metadata": {},
     "output_type": "display_data"
    },
    {
     "data": {
      "text/markdown": [
       "- Volume (V): 40.76210247349823 m³"
      ],
      "text/plain": [
       "<IPython.core.display.Markdown object>"
      ]
     },
     "metadata": {},
     "output_type": "display_data"
    },
    {
     "data": {
      "text/markdown": [
       "- Moles (n): 555.0 mol"
      ],
      "text/plain": [
       "<IPython.core.display.Markdown object>"
      ]
     },
     "metadata": {},
     "output_type": "display_data"
    },
    {
     "data": {
      "text/markdown": [
       "- Temperature (T): 5.0 K"
      ],
      "text/plain": [
       "<IPython.core.display.Markdown object>"
      ]
     },
     "metadata": {},
     "output_type": "display_data"
    },
    {
     "data": {
      "text/markdown": [
       "### Result"
      ],
      "text/plain": [
       "<IPython.core.display.Markdown object>"
      ]
     },
     "metadata": {},
     "output_type": "display_data"
    },
    {
     "data": {
      "text/markdown": [
       "*Volume (V)*: 40.7621 m³"
      ],
      "text/plain": [
       "<IPython.core.display.Markdown object>"
      ]
     },
     "metadata": {},
     "output_type": "display_data"
    }
   ],
   "source": [
    "import numpy as np\n",
    "from IPython.display import display, Markdown\n",
    "\n",
    "# Gas constant (J/(mol·K))\n",
    "R = 8.314\n",
    "\n",
    "def ideal_gas_law():\n",
    "    \"\"\"Calculate or verify PV = nRT based on user inputs using NumPy.\"\"\"\n",
    "    display(Markdown(\"## Ideal Gas Law Calculator (PV = nRT)\"))\n",
    "    display(Markdown(\"Enter values for known variables (leave blank for the variable to calculate):\"))\n",
    "    \n",
    "    try:\n",
    "        # Get user inputs as strings, convert to float or None if blank\n",
    "        P = input(\"Enter pressure (Pa, e.g., 101325 for 1 atm) [blank to calculate]: \")\n",
    "        P = np.float64(P) if P.strip() else None\n",
    "        V = input(\"Enter volume (m³, e.g., 0.0224 for 22.4 L) [blank to calculate]: \")\n",
    "        V = np.float64(V) if V.strip() else None\n",
    "        n = input(\"Enter moles (mol) [blank to calculate]: \")\n",
    "        n = np.float64(n) if n.strip() else None\n",
    "        T = input(\"Enter temperature (K, e.g., 298 for 25°C) [blank to calculate]: \")\n",
    "        T = np.float64(T) if T.strip() else None\n",
    "    except ValueError:\n",
    "        display(Markdown(\"*Error*: Please enter valid numeric values or leave one field blank.\"))\n",
    "        return\n",
    "\n",
    "    # Count non-None inputs\n",
    "    known_vars = sum(1 for x in [P, V, n, T] if x is not None)\n",
    "    \n",
    "    if known_vars != 3:\n",
    "        display(Markdown(\"*Error*: Please provide exactly three variables to calculate the fourth.\"))\n",
    "        return\n",
    "\n",
    "    # Calculate the missing variable using NumPy for precision\n",
    "    if P is None:\n",
    "        P = np.divide(np.multiply(n, np.multiply(R, T)), V)\n",
    "        result = f\"*Pressure (P)*: {P:.2f} Pa\"\n",
    "    elif V is None:\n",
    "        V = np.divide(np.multiply(n, np.multiply(R, T)), P)\n",
    "        result = f\"*Volume (V)*: {V:.4f} m³\"\n",
    "    elif n is None:\n",
    "        n = np.divide(np.multiply(P, V), np.multiply(R, T))\n",
    "        result = f\"*Moles (n)*: {n:.4f} mol\"\n",
    "    elif T is None:\n",
    "        T = np.divide(np.multiply(P, V), np.multiply(n, R))\n",
    "        result = f\"*Temperature (T)*: {T:.2f} K\"\n",
    "\n",
    "    # Display inputs and result\n",
    "    display(Markdown(\"### Inputs\"))\n",
    "    display(Markdown(f\"- Pressure (P): {P if P is not None else 'Calculated'} Pa\"))\n",
    "    display(Markdown(f\"- Volume (V): {V if V is not None else 'Calculated'} m³\"))\n",
    "    display(Markdown(f\"- Moles (n): {n if n is not None else 'Calculated'} mol\"))\n",
    "    display(Markdown(f\"- Temperature (T): {T if T is not None else 'Calculated'} K\"))\n",
    "    display(Markdown(\"### Result\"))\n",
    "    display(Markdown(result))\n",
    "\n",
    "# Run the calculator\n",
    "ideal_gas_law()"
   ]
  }
 ],
 "metadata": {
  "kernelspec": {
   "display_name": "Python 3 (ipykernel)",
   "language": "python",
   "name": "python3"
  },
  "language_info": {
   "codemirror_mode": {
    "name": "ipython",
    "version": 3
   },
   "file_extension": ".py",
   "mimetype": "text/x-python",
   "name": "python",
   "nbconvert_exporter": "python",
   "pygments_lexer": "ipython3",
   "version": "3.13.2"
  }
 },
 "nbformat": 4,
 "nbformat_minor": 5
}
