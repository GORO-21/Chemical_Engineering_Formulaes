{
 "cells": [
  {
   "cell_type": "code",
   "execution_count": 2,
   "id": "50394a28-eb97-4b39-8ce1-bc3cb39507ba",
   "metadata": {},
   "outputs": [],
   "source": [
    "import math\n",
    "from scipy.optimize import fsolve\n"
   ]
  },
  {
   "cell_type": "code",
   "execution_count": 12,
   "id": "7cf67616-1b10-4304-84ed-ee06116d04a3",
   "metadata": {},
   "outputs": [],
   "source": [
    "def reynolds_number(rho,v,D,mu):\n",
    "    \"\"\" rho (float) = density of liquid (kg/m^3)\n",
    "        velocity (float) = velocity of fluid (m/s)\n",
    "        diameter (float) = diameter of pipe (m)\n",
    "        mu (float) = viscosity (Pa.s)\n",
    "        \n",
    "        Returns = Re = Reynolds number which tells the type of flow\"\"\"\n",
    "    return (rho*v*D)/mu\n",
    "\n",
    "def fanning_friction_factor (Re,epsilon,D):\n",
    "    \"\"\" Re = Reynolds number\n",
    "        epsilon (float) = pipe roughness (m)\n",
    "        D (float) = diameter of pipe (m)\n",
    "        \n",
    "        Returns = f = fanning friction factor\"\"\"\n",
    "    if Re < 2000:\n",
    "        return 16/Re # Laminar Flow\n",
    "    elif Re > 2000:\n",
    "        f_sqrt_inv = -1.8 * math.log10(((epsilon/D)/3.7)+(6.9/Re))\n",
    "        return (1/(f_sqrt_inv**2))\n",
    "    else: \n",
    "        raise ValueError (\"Transitional flow regime not handled precisely \")\n",
    "\n",
    "def pressure_drop(f,L,D,rho,v):\n",
    "    \"\"\" f (float) = fanning friction factor\n",
    "        L (float) = length of pipe (m)\n",
    "        D (float) = diameter of pipe (m)\n",
    "        rho (float) = density of liquid (kg/m^3)\n",
    "        v (float) = velocity (m/s)\n",
    "        \n",
    "        Returns = P = pressure drop \"\"\"\n",
    "    return ((f*L)/D)* ((rho*(v**2))/2)\n",
    "\n",
    "\n",
    "    \n",
    "            "
   ]
  },
  {
   "cell_type": "code",
   "execution_count": 20,
   "id": "80e651d3-e849-4fd1-a358-efa30944959d",
   "metadata": {},
   "outputs": [
    {
     "name": "stdout",
     "output_type": "stream",
     "text": [
      "Reynold's number : 100000\n",
      "Fanning Friction Factor: 0.0251\n",
      "Pressure drop :  100464.6593 Pa\n"
     ]
    }
   ],
   "source": [
    "# EXAMPLE USAGE\n",
    "\n",
    "if __name__ == \"__main__\" :\n",
    "\n",
    "    # Water flowing in a Steel pipe\n",
    "\n",
    "    v = 2.0\n",
    "    D = 0.05\n",
    "    L = 100\n",
    "    rho = 1000\n",
    "    mu = 0.001\n",
    "    epsilon = 0.000045 \n",
    "\n",
    "    Re = reynolds_number(rho,v,D,mu)\n",
    "    f = fanning_friction_factor (Re,epsilon,D)\n",
    "    delta_P = pressure_drop(f,L,D,rho,v)\n",
    "\n",
    "    print(f\"Reynold's number : {Re:.0f}\")\n",
    "    print (f\"Fanning Friction Factor: {f:.4f}\")\n",
    "    print (f\"Pressure drop : {delta_P : .4f} Pa\")\n"
   ]
  },
  {
   "cell_type": "code",
   "execution_count": null,
   "id": "57bae6c8-d31d-4cdd-a37a-4751de25e3c4",
   "metadata": {},
   "outputs": [],
   "source": []
  }
 ],
 "metadata": {
  "kernelspec": {
   "display_name": "Python 3 (ipykernel)",
   "language": "python",
   "name": "python3"
  },
  "language_info": {
   "codemirror_mode": {
    "name": "ipython",
    "version": 3
   },
   "file_extension": ".py",
   "mimetype": "text/x-python",
   "name": "python",
   "nbconvert_exporter": "python",
   "pygments_lexer": "ipython3",
   "version": "3.13.2"
  }
 },
 "nbformat": 4,
 "nbformat_minor": 5
}
